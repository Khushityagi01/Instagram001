{
 "cells": [
  {
   "cell_type": "code",
   "execution_count": null,
   "id": "48c48d26",
   "metadata": {},
   "outputs": [],
   "source": [
    "#Get Instagram Account Details using Python\n",
    "!pip install instaloader\n",
    "\n",
    "import instaloader\n",
    "\n",
    "# creating an Instaloader() object\n",
    "ig=instaloader.Instaloader()\n",
    "\n",
    "# Taking the instagram username as input from user\n",
    "usrname=input(\"Enter username:\")\n",
    "\n",
    "#Fetching the details of provided useraname using instaloder object\n",
    "profile=instaloader.Profile.from_username(ig.context, usrname)\n",
    "\n",
    "# Printing the fetched details and storing the profile pic of that account\n",
    "print(\"Username: \", profile.username)\n",
    "print(\"Number of Posts Uploaded: \", profile.mediacount)\n",
    "print(profile.username+\" is having \" + str(profile.followers)+' followers.')\n",
    "print(profile.username+\" is following \" + str(profile.followees)+' people')\n",
    "print(\"Bio: \", profile.biography)\n",
    "instaloader.Instaloader().download_profile(usrname,profile_pic_only=True)"
   ]
  },
  {
   "cell_type": "code",
   "execution_count": null,
   "id": "3ab3925c",
   "metadata": {},
   "outputs": [],
   "source": []
  }
 ],
 "metadata": {
  "kernelspec": {
   "display_name": "Python 3 (ipykernel)",
   "language": "python",
   "name": "python3"
  },
  "language_info": {
   "codemirror_mode": {
    "name": "ipython",
    "version": 3
   },
   "file_extension": ".py",
   "mimetype": "text/x-python",
   "name": "python",
   "nbconvert_exporter": "python",
   "pygments_lexer": "ipython3",
   "version": "3.9.7"
  }
 },
 "nbformat": 4,
 "nbformat_minor": 5
}
